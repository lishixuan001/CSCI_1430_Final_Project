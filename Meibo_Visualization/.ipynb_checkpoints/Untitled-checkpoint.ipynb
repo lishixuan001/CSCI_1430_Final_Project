{
 "cells": [
  {
   "cell_type": "code",
   "execution_count": null,
   "metadata": {
    "collapsed": false
   },
   "outputs": [],
   "source": [
    "import json\n",
    "import os\n",
    "from os import listdir\n",
    "from os.path import join\n",
    "import numpy as np\n",
    "import pandas as pd\n",
    "import random\n",
    "import sys\n",
    "\n",
    "import matplotlib\n",
    "from matplotlib.patches import Polygon\n",
    "from matplotlib.collections import PatchCollection\n",
    "\n",
    "import matplotlib.pyplot as plt\n",
    "import pylab\n",
    "import cv2\n",
    "import os\n",
    "from matplotlib.pyplot import imsave\n",
    "import numpy as np\n",
    "import matplotlib.cm as cm\n",
    "from skimage import transform\n",
    "import scipy\n",
    "from scipy import ndimage\n",
    "from tqdm import tqdm\n",
    "import h5py\n",
    "from skimage.color import rgb2gray"
   ]
  },
  {
   "cell_type": "code",
   "execution_count": 9,
   "metadata": {
    "collapsed": false
   },
   "outputs": [],
   "source": [
    "pylab.rcParams['figure.figsize'] = (12.0, 16.0)"
   ]
  },
  {
   "cell_type": "code",
   "execution_count": 10,
   "metadata": {
    "collapsed": true
   },
   "outputs": [],
   "source": [
    "lid_type = \"LL\"\n",
    "data_type = \"test\""
   ]
  },
  {
   "cell_type": "code",
   "execution_count": 15,
   "metadata": {
    "collapsed": true
   },
   "outputs": [],
   "source": [
    "all_glands_dir = f\"../../dataset/meibo/save_img/labeled_data/{lid_type}/{data_type}/glands/\"\n",
    "all_property_dir = f\"../../dataset/meibo/save_img/labeled_data/{lid_type}/{data_type}/property/\"\n",
    "raw_image_dir = f\"../../dataset/meibo/raw_img/{lid_type}/{data_type}/\""
   ]
  },
  {
   "cell_type": "code",
   "execution_count": 16,
   "metadata": {
    "collapsed": true
   },
   "outputs": [],
   "source": [
    "# prop_dict = dict() # property dict [ghost type]\n",
    "\n",
    "# for csv_file in listdir(all_property_dir):\n",
    "#     img_name = csv_file.split(\".\")[0] # \"R_42\"\n",
    "#     csv_root = join(all_property_dir, csv_file)\n",
    "#     with open(csv_root) as csv_file:\n",
    "#         csv_reader = csv.reader(csv_file, delimiter=',')\n",
    "#         ghost_types = dict([(row[0],row[1]) for row in csv_reader])\n",
    "#         prop_dict[img_name] = ghost_types"
   ]
  },
  {
   "cell_type": "code",
   "execution_count": 17,
   "metadata": {
    "collapsed": true
   },
   "outputs": [],
   "source": [
    "def operate():\n",
    "    \n",
    "    concat_raw_instance_data = list()\n",
    "    concat_raw_instance_label = list()\n",
    "    concat_raw_instance_info = list()\n",
    "    \n",
    "    for glands_folder in tqdm(os.listdir(all_glands_dir)):\n",
    "        \n",
    "        img_idx, img_side = glands_folder.split(\"_\")\n",
    "        glands_dir = join(all_glands_dir, glands_folder)\n",
    "        img_info = \"_\".join([img_side, img_idx])\n",
    "        \n",
    "        raw_img = cv2.imread(join(raw_image_dir, f\"{img_side}{img_idx}.png\"))\n",
    "#         raw_img = cv2.cvtColor(raw_img, cv2.COLOR_BGR2GRAY)\n",
    "#         raw_img_data = transform.resize(raw_img, target_shape)\n",
    "#         raw_img_data = normalize(raw_img_data)\n",
    "        \n",
    "        propertys = prop_dict[img_info]\n",
    "        \n",
    "        try:\n",
    "            for gland_mask in os.listdir(glands_dir):\n",
    "                _, _, gland_idx, _ = gland_mask.split(\".\")[0].split(\"_\")\n",
    "                img_path = join(glands_dir, gland_mask)\n",
    "                gland_mask = cv2.imread(img_path)\n",
    "                gland_mask = cv2.cvtColor(gland_mask, cv2.COLOR_BGR2GRAY)\n",
    "                gland_mask = binarize(gland_mask, threshold=0.0)\n",
    "                \n",
    "                mask_dil = ndimage.binary_dilation(gland_mask, iterations=1).astype(gland_mask.dtype)\n",
    "                mask_ero = ndimage.binary_erosion(gland_mask, iterations=1).astype(gland_mask.dtype)\n",
    "                \n",
    "                mask_ctr = mask_dil.copy()\n",
    "                mask_ctr[mask_ero != 0] = 0\n",
    "                \n",
    "                print(mask_ctr.shape)\n",
    "                print(np.max(mask_ctr))\n",
    "                print(np.min(mask_ctr))\n",
    "                \n",
    "                print(raw_img.shape)\n",
    "                print(np.max(raw_img))\n",
    "                print(np.min(raw_img))\n",
    "                \n",
    "                return\n",
    "                \n",
    "        except:\n",
    "            continue\n",
    "        \n",
    "    return concat_raw_instance_data, concat_raw_instance_label, concat_raw_instance_info"
   ]
  },
  {
   "cell_type": "code",
   "execution_count": 18,
   "metadata": {
    "collapsed": false
   },
   "outputs": [
    {
     "name": "stderr",
     "output_type": "stream",
     "text": [
      "  0%|          | 0/201 [00:00<?, ?it/s]\n"
     ]
    },
    {
     "ename": "NameError",
     "evalue": "name 'cv2' is not defined",
     "output_type": "error",
     "traceback": [
      "\u001b[0;31m---------------------------------------------------------------------------\u001b[0m",
      "\u001b[0;31mNameError\u001b[0m                                 Traceback (most recent call last)",
      "\u001b[0;32m<ipython-input-18-fa93f42599b8>\u001b[0m in \u001b[0;36m<module>\u001b[0;34m\u001b[0m\n\u001b[0;32m----> 1\u001b[0;31m \u001b[0moperate\u001b[0m\u001b[0;34m(\u001b[0m\u001b[0;34m)\u001b[0m\u001b[0;34m\u001b[0m\u001b[0;34m\u001b[0m\u001b[0m\n\u001b[0m",
      "\u001b[0;32m<ipython-input-17-616abb50ff33>\u001b[0m in \u001b[0;36moperate\u001b[0;34m()\u001b[0m\n\u001b[1;32m     11\u001b[0m         \u001b[0mimg_info\u001b[0m \u001b[0;34m=\u001b[0m \u001b[0;34m\"_\"\u001b[0m\u001b[0;34m.\u001b[0m\u001b[0mjoin\u001b[0m\u001b[0;34m(\u001b[0m\u001b[0;34m[\u001b[0m\u001b[0mimg_side\u001b[0m\u001b[0;34m,\u001b[0m \u001b[0mimg_idx\u001b[0m\u001b[0;34m]\u001b[0m\u001b[0;34m)\u001b[0m\u001b[0;34m\u001b[0m\u001b[0;34m\u001b[0m\u001b[0m\n\u001b[1;32m     12\u001b[0m \u001b[0;34m\u001b[0m\u001b[0m\n\u001b[0;32m---> 13\u001b[0;31m         \u001b[0mraw_img\u001b[0m \u001b[0;34m=\u001b[0m \u001b[0mcv2\u001b[0m\u001b[0;34m.\u001b[0m\u001b[0mimread\u001b[0m\u001b[0;34m(\u001b[0m\u001b[0mjoin\u001b[0m\u001b[0;34m(\u001b[0m\u001b[0mraw_image_dir\u001b[0m\u001b[0;34m,\u001b[0m \u001b[0;34mf\"{img_side}{img_idx}.png\"\u001b[0m\u001b[0;34m)\u001b[0m\u001b[0;34m)\u001b[0m\u001b[0;34m\u001b[0m\u001b[0;34m\u001b[0m\u001b[0m\n\u001b[0m\u001b[1;32m     14\u001b[0m \u001b[0;31m#         raw_img = cv2.cvtColor(raw_img, cv2.COLOR_BGR2GRAY)\u001b[0m\u001b[0;34m\u001b[0m\u001b[0;34m\u001b[0m\u001b[0;34m\u001b[0m\u001b[0m\n\u001b[1;32m     15\u001b[0m \u001b[0;31m#         raw_img_data = transform.resize(raw_img, target_shape)\u001b[0m\u001b[0;34m\u001b[0m\u001b[0;34m\u001b[0m\u001b[0;34m\u001b[0m\u001b[0m\n",
      "\u001b[0;31mNameError\u001b[0m: name 'cv2' is not defined"
     ]
    }
   ],
   "source": [
    "operate()"
   ]
  },
  {
   "cell_type": "code",
   "execution_count": null,
   "metadata": {
    "collapsed": true
   },
   "outputs": [],
   "source": []
  }
 ],
 "metadata": {
  "kernelspec": {
   "display_name": "meibo",
   "language": "python",
   "name": "meibo"
  },
  "language_info": {
   "codemirror_mode": {
    "name": "ipython",
    "version": 3
   },
   "file_extension": ".py",
   "mimetype": "text/x-python",
   "name": "python",
   "nbconvert_exporter": "python",
   "pygments_lexer": "ipython3",
   "version": "3.7.4"
  }
 },
 "nbformat": 4,
 "nbformat_minor": 0
}
